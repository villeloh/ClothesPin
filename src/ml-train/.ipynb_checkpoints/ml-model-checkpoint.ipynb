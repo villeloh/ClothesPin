{
 "cells": [
  {
   "cell_type": "code",
   "execution_count": 8,
   "metadata": {},
   "outputs": [],
   "source": [
    "\"\"\"\n",
    "Machine Learning Model Generation\n",
    "Author: Ville Lohkovuori\n",
    "04/05 2018\n",
    "\"\"\"\n",
    "\n",
    "# imports\n",
    "import numpy as np\n",
    "import keras\n",
    "from keras import layers\n",
    "from keras import models\n",
    "from keras import optimizers\n",
    "import matplotlib.pyplot as plt\n",
    "import json\n",
    "import coremltools\n",
    "import cv2 # NOTE: for this to work, install 'opencv' in your environment!"
   ]
  },
  {
   "cell_type": "code",
   "execution_count": 9,
   "metadata": {},
   "outputs": [],
   "source": [
    "# initialize stuffs\n",
    "\n",
    "# it's easier to feed the correct item stats like this\n",
    "class ItemStats:\n",
    "    def __init__(self, clothDataIndex, numberOfItems, validationSetSize, nameOfMlModel):\n",
    "        self.cdIndex = clothDataIndex\n",
    "        self.numOfItems = numberOfItems\n",
    "        self.valSetSize = validationSetSize\n",
    "        self.modelName = nameOfMlModel\n",
    "        \n",
    "shirts = ItemStats('0', 1996, 400, 'shirts_model')\n",
    "coats = ItemStats('1', 2000, 400, 'coats_model')\n",
    "pants = ItemStats('2', 1996, 400, 'pants_model')\n",
    "shoes = ItemStats('3', 1999, 400, 'shoes_model')\n",
    "hats = ItemStats('4', 824, 200, 'hats_model')\n",
    "gloves = ItemStats('5', 178, 50, 'gloves_model')\n",
    "\n",
    "chosenItem = gloves # only this needs to be changed now in the whole file, to obtain a new model\n",
    "\n",
    "# I would sure like to auto-switch this based on user, but for now you'll just have to change the folder yourself.\n",
    "# note also that in order for the script to work, you'll have to put the project in a folder called 'backend' on \n",
    "# your mac desktop !!! sorry about that, but due to the way we save stuff to the db, there's no way around this\n",
    "rawData = json.load(open('/Users/iosdev/Desktop/backend/ClothesPin/src/data-store/data.json'))\n",
    "\n",
    "# indices: 0 = shirts; 1 = coats; 2 = pants; 3 = shoes; 4 = hats; 5 = gloves\n",
    "# (the order comes from the 'searches' array in fetch-images.js)\n",
    "clothData = rawData[chosenItem.cdIndex]\n",
    "clothImageItems = clothData['images']\n",
    "\n",
    "listOfImageUrls = []\n",
    "listOfPrices = []\n",
    "listOfActualImages = []\n",
    "\n",
    "numOfItems = chosenItem.numOfItems # amount of dl'ded images"
   ]
  },
  {
   "cell_type": "code",
   "execution_count": 10,
   "metadata": {},
   "outputs": [],
   "source": [
    "# reformat data to work on it more easily\n",
    "\n",
    "for index in range(0, numOfItems):\n",
    "    listOfImageUrls.append(clothImageItems[str(index)]['url']) # indices are strings in the json object\n",
    "    \n",
    "for url in listOfImageUrls:\n",
    "    \n",
    "    # read the image from the folder\n",
    "    img = cv2.imread(url, cv2.IMREAD_COLOR)\n",
    "    listOfActualImages.append(img)\n",
    "\n",
    "# it seems there's something funny going on with altering the arrays...\n",
    "# the altered values within an inner array don't seem to propagate to\n",
    "# their parent array. let's try to create a new array and append to that\n",
    "# to fix this problem\n",
    "alteredListOfImages = []\n",
    "    \n",
    "for index, img in enumerate(listOfActualImages):\n",
    "    \n",
    "    if img is not None: # I'm not sure why, but we still get some invalid images\n",
    "        img = img.astype('float32')\n",
    "        img /= 255\n",
    "        alteredListOfImages.append(img)\n",
    "        priceWithNoDecimals = \"{0:.0f}\".format(clothImageItems[str(index)]['price'])\n",
    "        listOfPrices.append(priceWithNoDecimals)"
   ]
  },
  {
   "cell_type": "code",
   "execution_count": 11,
   "metadata": {},
   "outputs": [],
   "source": [
    "# reformatting continues (numpy stuffs)\n",
    "\n",
    "# make numpy arrays from the image and price lists (needed to use them for ml)\n",
    "np_images = np.array(alteredListOfImages)\n",
    "np_prices = np.array(listOfPrices)"
   ]
  },
  {
   "cell_type": "code",
   "execution_count": 12,
   "metadata": {},
   "outputs": [],
   "source": [
    "# separating a training set and validation set from the whole set of images/prices:\n",
    "\n",
    "trainLimit = numOfItems - chosenItem.valSetSize\n",
    "testLimit = numOfItems # for clarity; could just use numOfItems\n",
    "\n",
    "x_train = np_images[0:trainLimit]\n",
    "x_test = np_images[trainLimit:testLimit]\n",
    "\n",
    "y_train = np_prices[0:trainLimit]\n",
    "y_test = np_prices[trainLimit:testLimit]"
   ]
  },
  {
   "cell_type": "code",
   "execution_count": 13,
   "metadata": {
    "scrolled": true
   },
   "outputs": [
    {
     "name": "stdout",
     "output_type": "stream",
     "text": [
      "_________________________________________________________________\n",
      "Layer (type)                 Output Shape              Param #   \n",
      "=================================================================\n",
      "conv2d_3 (Conv2D)            (None, 138, 138, 50)      1400      \n",
      "_________________________________________________________________\n",
      "max_pooling2d_3 (MaxPooling2 (None, 46, 46, 50)        0         \n",
      "_________________________________________________________________\n",
      "conv2d_4 (Conv2D)            (None, 43, 43, 150)       120150    \n",
      "_________________________________________________________________\n",
      "max_pooling2d_4 (MaxPooling2 (None, 21, 21, 150)       0         \n",
      "_________________________________________________________________\n",
      "flatten_2 (Flatten)          (None, 66150)             0         \n",
      "_________________________________________________________________\n",
      "dense_3 (Dense)              (None, 500)               33075500  \n",
      "_________________________________________________________________\n",
      "dense_4 (Dense)              (None, 1)                 501       \n",
      "=================================================================\n",
      "Total params: 33,197,551\n",
      "Trainable params: 33,197,551\n",
      "Non-trainable params: 0\n",
      "_________________________________________________________________\n",
      "Train on 128 samples, validate on 49 samples\n",
      "Epoch 1/30\n",
      "128/128 [==============================] - 19s 146ms/step - loss: 207.1655 - acc: 0.0156 - val_loss: 248.6617 - val_acc: 0.0000e+00\n",
      "Epoch 2/30\n",
      "128/128 [==============================] - 18s 137ms/step - loss: 167.4818 - acc: 0.0469 - val_loss: 277.6350 - val_acc: 0.0000e+00\n",
      "Epoch 3/30\n",
      "128/128 [==============================] - 18s 139ms/step - loss: 167.6123 - acc: 0.0234 - val_loss: 265.2674 - val_acc: 0.0000e+00\n",
      "Epoch 4/30\n",
      "128/128 [==============================] - 18s 138ms/step - loss: 154.1269 - acc: 0.0234 - val_loss: 225.6046 - val_acc: 0.0612\n",
      "Epoch 5/30\n",
      "128/128 [==============================] - 18s 139ms/step - loss: 155.0539 - acc: 0.0547 - val_loss: 225.6970 - val_acc: 0.0000e+00\n",
      "Epoch 6/30\n",
      "128/128 [==============================] - 18s 140ms/step - loss: 145.8358 - acc: 0.0469 - val_loss: 238.5886 - val_acc: 0.0000e+00\n",
      "Epoch 7/30\n",
      "128/128 [==============================] - 18s 138ms/step - loss: 121.0068 - acc: 0.0469 - val_loss: 246.7386 - val_acc: 0.1429\n",
      "Epoch 8/30\n",
      "128/128 [==============================] - 18s 141ms/step - loss: 113.0949 - acc: 0.0313 - val_loss: 242.1788 - val_acc: 0.0000e+00\n",
      "Epoch 9/30\n",
      "128/128 [==============================] - 18s 144ms/step - loss: 98.5069 - acc: 0.0625 - val_loss: 248.6800 - val_acc: 0.0000e+00\n",
      "Epoch 10/30\n",
      "128/128 [==============================] - 18s 139ms/step - loss: 98.6804 - acc: 0.0391 - val_loss: 335.8023 - val_acc: 0.0204\n",
      "Epoch 11/30\n",
      "128/128 [==============================] - 18s 138ms/step - loss: 66.6585 - acc: 0.0313 - val_loss: 251.0941 - val_acc: 0.0204\n",
      "Epoch 12/30\n",
      "128/128 [==============================] - 18s 139ms/step - loss: 41.8094 - acc: 0.1172 - val_loss: 253.7743 - val_acc: 0.0000e+00\n",
      "Epoch 13/30\n",
      "128/128 [==============================] - 18s 140ms/step - loss: 29.3691 - acc: 0.1172 - val_loss: 249.4372 - val_acc: 0.0612\n",
      "Epoch 14/30\n",
      "128/128 [==============================] - 18s 139ms/step - loss: 34.9252 - acc: 0.0938 - val_loss: 277.9050 - val_acc: 0.0000e+00\n",
      "Epoch 15/30\n",
      "128/128 [==============================] - 18s 138ms/step - loss: 27.4218 - acc: 0.0469 - val_loss: 253.6154 - val_acc: 0.0204\n",
      "Epoch 16/30\n",
      "128/128 [==============================] - 18s 142ms/step - loss: 21.0120 - acc: 0.1484 - val_loss: 259.2734 - val_acc: 0.0408\n",
      "Epoch 17/30\n",
      "128/128 [==============================] - 18s 141ms/step - loss: 17.8223 - acc: 0.1875 - val_loss: 250.4746 - val_acc: 0.0408\n",
      "Epoch 18/30\n",
      "128/128 [==============================] - 18s 138ms/step - loss: 19.4206 - acc: 0.1250 - val_loss: 268.8796 - val_acc: 0.0408\n",
      "Epoch 19/30\n",
      "128/128 [==============================] - 18s 140ms/step - loss: 14.7656 - acc: 0.1016 - val_loss: 266.2674 - val_acc: 0.0000e+00\n",
      "Epoch 20/30\n",
      "128/128 [==============================] - 18s 143ms/step - loss: 12.7602 - acc: 0.1719 - val_loss: 282.3485 - val_acc: 0.0204\n",
      "Epoch 21/30\n",
      "128/128 [==============================] - 18s 139ms/step - loss: 9.1508 - acc: 0.2734 - val_loss: 320.4876 - val_acc: 0.0408\n",
      "Epoch 22/30\n",
      "128/128 [==============================] - 18s 143ms/step - loss: 14.1774 - acc: 0.1094 - val_loss: 279.9627 - val_acc: 0.0408\n",
      "Epoch 23/30\n",
      "128/128 [==============================] - 21s 164ms/step - loss: 9.9032 - acc: 0.1719 - val_loss: 315.8332 - val_acc: 0.0000e+00\n",
      "Epoch 24/30\n",
      "128/128 [==============================] - 19s 147ms/step - loss: 10.8596 - acc: 0.1953 - val_loss: 279.9825 - val_acc: 0.0204\n",
      "Epoch 25/30\n",
      "128/128 [==============================] - 18s 140ms/step - loss: 9.1172 - acc: 0.2578 - val_loss: 302.3715 - val_acc: 0.0000e+00\n",
      "Epoch 26/30\n",
      "128/128 [==============================] - 18s 141ms/step - loss: 4.6208 - acc: 0.2500 - val_loss: 321.4366 - val_acc: 0.0204\n",
      "Epoch 27/30\n",
      "128/128 [==============================] - 18s 141ms/step - loss: 7.1887 - acc: 0.1953 - val_loss: 278.2203 - val_acc: 0.0000e+00\n",
      "Epoch 28/30\n",
      "128/128 [==============================] - 18s 140ms/step - loss: 7.6262 - acc: 0.1016 - val_loss: 356.1106 - val_acc: 0.0000e+00\n",
      "Epoch 29/30\n",
      "128/128 [==============================] - 18s 141ms/step - loss: 5.5125 - acc: 0.2500 - val_loss: 319.1065 - val_acc: 0.0204\n",
      "Epoch 30/30\n",
      "128/128 [==============================] - 18s 140ms/step - loss: 10.2417 - acc: 0.2266 - val_loss: 327.9399 - val_acc: 0.0612\n"
     ]
    }
   ],
   "source": [
    "# building the actual ml model & using it:\n",
    "\n",
    "model = keras.models.Sequential()\n",
    "\n",
    "model.add(layers.Conv2D(50, (3, 3), strides = 1,padding ='valid', activation = 'relu', input_shape = (140,140,3)))\n",
    "model.add(layers.MaxPooling2D(pool_size=(3,3), strides=3, padding='valid'))\n",
    "model.add(layers.Conv2D(150,(4, 4), strides=1,padding='valid',activation='relu'))\n",
    "model.add(layers.MaxPooling2D(pool_size=(2,2), strides=2, padding='valid'))\n",
    "model.add(layers.Flatten())\n",
    "model.add(layers.Dense(500, activation='relu'))\n",
    "model.add(layers.Dense(1, activation='relu'))\n",
    "\n",
    "model.compile(optimizer='adam', loss='mse', metrics=['acc'])\n",
    "# optimizer choices: sgd, adam, rmsprop\n",
    "# default: sgd (very bad results with it)\n",
    "\n",
    "model.summary()\n",
    "\n",
    "hist = model.fit(x_train, y_train, epochs=30, batch_size=10, validation_data=(x_test, y_test))"
   ]
  },
  {
   "cell_type": "code",
   "execution_count": 14,
   "metadata": {},
   "outputs": [
    {
     "data": {
      "image/png": "[encoded data removed]",
      "text/plain": [
       "<Figure size 432x288 with 1 Axes>"
      ]
     },
     "metadata": {},
     "output_type": "display_data"
    },
    {
     "data": {
      "image/png": "[encoded data removed]",
      "text/plain": [
       "<Figure size 432x288 with 1 Axes>"
      ]
     },
     "metadata": {},
     "output_type": "display_data"
    },
    {
     "data": {
      "text/plain": [
       "\"\\npreds = model.predict(x_test)\\n\\n# print(model.predict(digitimage.reshape(-1, 28*28)))\\n\\n# print(np.sum(np.round(preds[:,0]) == y_test) / len(y_test))\\n\\nplt.plot(y_test, preds, 'ro')\\nplt.plot([0,10], [0,10], 'b')\""
      ]
     },
     "execution_count": 14,
     "metadata": {},
     "output_type": "execute_result"
    }
   ],
   "source": [
    "# visualizing the model / training:\n",
    "\n",
    "acc = hist.history['acc']\n",
    "val_acc = hist.history['val_acc']\n",
    "loss = hist.history['loss']\n",
    "val_loss = hist.history['val_loss']\n",
    "epochs = range(1, len(acc) + 1)\n",
    "\n",
    "plt.plot(epochs, acc, 'bo', label='Training acc')\n",
    "plt.plot(epochs, val_acc, 'b', label='Validation acc')\n",
    "plt.title('Training and validation accuracy')\n",
    "plt.legend()\n",
    "plt.figure()\n",
    "\n",
    "plt.plot(epochs, loss, 'bo', label='Training loss')\n",
    "plt.plot(epochs, val_loss, 'b', label='Validation loss')\n",
    "plt.title('Training and validation loss')\n",
    "plt.legend()\n",
    "plt.show()"
   ]
  },
  {
   "cell_type": "code",
   "execution_count": 15,
   "metadata": {},
   "outputs": [
    {
     "name": "stdout",
     "output_type": "stream",
     "text": [
      "0 : conv2d_3_input, <keras.engine.topology.InputLayer object at 0x11c0f9278>\n",
      "1 : conv2d_3, <keras.layers.convolutional.Conv2D object at 0x11c0f9240>\n",
      "2 : conv2d_3__activation__, <keras.layers.core.Activation object at 0x127ad64e0>\n",
      "3 : max_pooling2d_3, <keras.layers.pooling.MaxPooling2D object at 0x11c0f9550>\n",
      "4 : conv2d_4, <keras.layers.convolutional.Conv2D object at 0x11c0f96a0>\n",
      "5 : conv2d_4__activation__, <keras.layers.core.Activation object at 0x127ad6470>\n",
      "6 : max_pooling2d_4, <keras.layers.pooling.MaxPooling2D object at 0x11c0f9f28>\n",
      "7 : flatten_2, <keras.layers.core.Flatten object at 0x127996e80>\n",
      "8 : dense_3, <keras.layers.core.Dense object at 0x1279abe80>\n",
      "9 : dense_3__activation__, <keras.layers.core.Activation object at 0x127ad61d0>\n",
      "10 : dense_4, <keras.layers.core.Dense object at 0x1279c0cc0>\n",
      "11 : dense_4__activation__, <keras.layers.core.Activation object at 0x127db55c0>\n"
     ]
    }
   ],
   "source": [
    "# saving the model in a format that is usable by Xcode:\n",
    "\n",
    "model.save('temp_model.h5') # intermediary format that's needed for some technical reason\n",
    "\n",
    "# do not change these stuffs...\n",
    "coreml_thingy = coremltools.converters.keras.convert('temp_model.h5', input_names = ['image'], \n",
    "                                                     output_names = ['output'], image_input_names = 'image')\n",
    "# Set the model metadata\n",
    "coreml_thingy.author = 'Team ClothesPin'\n",
    "coreml_thingy.license = 'ClothesPin'\n",
    "coreml_thingy.short_description = 'Evaluates the price of a clothing item that the user takes a picture of.'\n",
    "\n",
    "modelNamePlusFileEnding = chosenItem.modelName + '.mlmodel'\n",
    "\n",
    "coreml_thingy.save(modelNamePlusFileEnding)"
   ]
  }
 ],
 "metadata": {
  "kernelspec": {
   "display_name": "Python 3",
   "language": "python",
   "name": "python3"
  },
  "language_info": {
   "codemirror_mode": {
    "name": "ipython",
    "version": 3
   },
   "file_extension": ".py",
   "mimetype": "text/x-python",
   "name": "python",
   "nbconvert_exporter": "python",
   "pygments_lexer": "ipython3",
   "version": "3.6.5"
  }
 },
 "nbformat": 4,
 "nbformat_minor": 2
}
